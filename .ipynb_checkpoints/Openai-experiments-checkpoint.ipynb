{
 "cells": [
  {
   "cell_type": "code",
   "execution_count": 2,
   "id": "7d18a649",
   "metadata": {},
   "outputs": [
    {
     "data": {
      "text/plain": [
       "True"
      ]
     },
     "execution_count": 2,
     "metadata": {},
     "output_type": "execute_result"
    }
   ],
   "source": [
    "import openai\n",
    "import os\n",
    "\n",
    "from dotenv import load_dotenv\n",
    "load_dotenv()\n"
   ]
  },
  {
   "cell_type": "code",
   "execution_count": 3,
   "id": "61569178",
   "metadata": {},
   "outputs": [],
   "source": [
    "openai.api_key = os.getenv(\"OPENAI_API_KEY\")\n",
    "openai.organization = os.getenv(\"OPENAI_ORG_ID\")"
   ]
  },
  {
   "cell_type": "code",
   "execution_count": 24,
   "id": "505a1b7e",
   "metadata": {},
   "outputs": [],
   "source": [
    "response = openai.Completion.create(\n",
    "  model=\"text-davinci-003\",\n",
    "  prompt=\"How big is the moon?\",\n",
    "  max_tokens=30,\n",
    "  temperature=0\n",
    ")\n"
   ]
  },
  {
   "cell_type": "code",
   "execution_count": 25,
   "id": "03734605",
   "metadata": {},
   "outputs": [
    {
     "name": "stdout",
     "output_type": "stream",
     "text": [
      "\n",
      "\n",
      "The moon has a diameter of 3,474 kilometers (2,159 miles).\n"
     ]
    }
   ],
   "source": [
    "print(response[\"choices\"][0][\"text\"])"
   ]
  },
  {
   "cell_type": "code",
   "execution_count": 8,
   "id": "cefaa7b6-b695-4d79-9cf5-d9fc82aef606",
   "metadata": {},
   "outputs": [
    {
     "name": "stdin",
     "output_type": "stream",
     "text": [
      "Tumhari problem kya hai bete? What is Dharma?\n"
     ]
    },
    {
     "name": "stdout",
     "output_type": "stream",
     "text": [
      "\n",
      "\n",
      "Dharma can be defined as the righteous path of moral virtue and fulfilment of one's duty.\n",
      "\n",
      "In the Bhagavad Gita, Lord Krishna says, \"The good is one thing and the pleasant is quite another. The righteous path is one of discipline, though it may seem unpleasant.” (Bhagavad Gita 2:14)\n",
      "\n",
      "He further states that, “That which restrains the senses and organs from wrong action is truly Dharma.” (Bhagavad Gita 3:17) \n",
      "\n",
      "Finally, Krishna states that, “Actions are said to be of three kinds, according to the gunas. Do thou perform action, O son of Kunti, abandoning attachment, without being impelled by the three gunas.” (Bhagavad Gita 5:10)\n"
     ]
    }
   ],
   "source": [
    "question = input(\"Tumhari problem kya hai bete?\")\n",
    "\n",
    "answer = openai.Completion.create(\n",
    "    model = \"text-davinci-003\",\n",
    "    prompt = \"In the context of Bhagvad Geeta, answer this question. Along with verses from it: \" + question,\n",
    "    max_tokens = 1000\n",
    ")\n",
    "\n",
    "print(answer[\"choices\"][0][\"text\"])"
   ]
  },
  {
   "cell_type": "code",
   "execution_count": 13,
   "id": "6022345a-bb8b-42f6-97e5-063e608cf83f",
   "metadata": {},
   "outputs": [
    {
     "name": "stdout",
     "output_type": "stream",
     "text": [
      "abcd\n"
     ]
    }
   ],
   "source": [
    "print(\"abcd\")"
   ]
  }
 ],
 "metadata": {
  "kernelspec": {
   "display_name": "Python 3 (ipykernel)",
   "language": "python",
   "name": "python3"
  },
  "language_info": {
   "codemirror_mode": {
    "name": "ipython",
    "version": 3
   },
   "file_extension": ".py",
   "mimetype": "text/x-python",
   "name": "python",
   "nbconvert_exporter": "python",
   "pygments_lexer": "ipython3",
   "version": "3.8.13"
  }
 },
 "nbformat": 4,
 "nbformat_minor": 5
}
